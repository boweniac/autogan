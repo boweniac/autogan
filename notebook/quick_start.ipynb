{
 "cells": [
  {
   "cell_type": "markdown",
   "id": "d174174ebd3a1f32",
   "metadata": {
    "collapsed": false
   },
   "source": [
    "# Quick Start\n",
    "___\n",
    "\n",
    "这是一个简单示例，以最小的操作步骤，来体验框架的基础功能。"
   ]
  },
  {
   "cell_type": "markdown",
   "id": "db6dbdef12db281a",
   "metadata": {
    "collapsed": false
   },
   "source": [
    "## 安装框架\n",
    "___\n",
    "\n",
    "AutoGan requires Python version >= 3.8. It can be installed from pip:"
   ]
  },
  {
   "cell_type": "code",
   "execution_count": null,
   "id": "d40879fc4a66ea3d",
   "metadata": {
    "collapsed": false
   },
   "outputs": [],
   "source": [
    "%%capture --no-stderr\n",
    "%pip install pyautogan"
   ]
  },
  {
   "cell_type": "code",
   "execution_count": null,
   "outputs": [],
   "source": [
    "import autogan"
   ],
   "metadata": {
    "collapsed": false
   },
   "id": "a83a3c8f-0a97-47f2-91b8-68e6ab569b44"
  },
  {
   "cell_type": "markdown",
   "id": "15feb9aa5de813ed",
   "metadata": {
    "collapsed": false
   },
   "source": [
    "## LLM 配置\n",
    "___"
   ]
  },
  {
   "cell_type": "code",
   "execution_count": null,
   "id": "b7cfd74b304e4195",
   "metadata": {
    "collapsed": false
   },
   "outputs": [],
   "source": [
    "# 通过 dict_from_json 函数读取 LLM 配置\n",
    "llm_config_dict = autogan.dict_from_json(\"LLM_CONFIG\")"
   ]
  },
  {
   "cell_type": "markdown",
   "id": "fae6130afbbce187",
   "metadata": {
    "collapsed": false
   },
   "source": [
    "dict_from_json 该函数会优先从环境变量 \"LLM_CONFIG\" 中获取配置，如环境变量中没有找到 \"LLM_CONFIG\"，则会从当前目录中名为 \"LLM_CONFIG\" 的文件内读取配置。\n",
    "\n",
    "对于配置内容，已在当前目录下已放置了 LLM_CONFIG 文件示例，其中 main_model 为 agent 智能体的 LLM 配置，而 summary_model 为用于压缩上下文或其他文本内容的 LLM 配置。\n",
    "summary_model 配置为可选项，当缺失时框架会使用 main_model 的配置进行上下文或文本压缩。\n",
    "\n",
    "LLM 配置中的 api_key_list 是一个配置列表。在请求时，系统将按照列表顺序进行尝试，当前请求失败，系统将自动切换至下一个配置进行尝试。\n",
    "当列表中的第一个配置请求失败后，会使用下一个配置继续尝试。\n",
    "\n",
    "**注意：**  框架目前仅适配了 openai、azure、自定义类 openai 接口的 chat 模型。"
   ]
  },
  {
   "cell_type": "markdown",
   "id": "ee4858a774894563",
   "metadata": {
    "collapsed": false
   },
   "source": [
    "## 构建 Agents\n",
    "___"
   ]
  },
  {
   "cell_type": "code",
   "execution_count": null,
   "id": "e7b97dab-7e3f-4af2-bca6-d31a0223c959",
   "metadata": {},
   "outputs": [],
   "source": [
    "customer = autogan.HumanAgent(\"客户\")\n",
    "customer_manager = autogan.UniversalAgent(\"客户经理\", duty=\"Responsible for receiving customers\", work_flow=\"我希望你在群聊中成为高端服务公司的金牌客户经理, 尽一切可能满足客户的合法需求, 在满足客户的要求之前不放弃.注意:如果客户提供文档，优先考虑从文档中寻找答案。再次强调，完成客户的任务是非常重要的，尽一切可能去完成它，发挥你的想象力，不要轻易放弃。如果没有正确答案，就不要给出错误的答案。还有不用解释自己的计划。\")\n",
    "coder = autogan.UniversalAgent(\"程序员\", duty=\"I can accomplish tasks previously impossible for you by writing programs.\", work_flow=\"我希望你是一个有经验的Python程序员。在编写代码之前，请做好以下准备工作:如果生成了代码，您必须在回复内容的开头@代码测试专员。这很重要。输出代码必须用' ' '包装。当程序运行缺少依赖时，你可以编写安装依赖的语句后 @代码测试专员 来安装相关依赖\")\n",
    "code_execution_agent = autogan.ToolAgentCodeExecution(\"代码测试专员\")"
   ]
  },
  {
   "cell_type": "markdown",
   "id": "7546162b219a5721",
   "metadata": {
    "collapsed": false
   },
   "source": [
    "## 构建组织架构\n",
    "___\n",
    "\n",
    "每个 list 相当于一个部门，各部门的第一个 agent 为部门的 leader，负责与上级部门的 agent 进行沟通。\n",
    "因此 leader 的 duty 属性应当概述整个部门的职测与能力。"
   ]
  },
  {
   "cell_type": "code",
   "execution_count": null,
   "id": "fb17a7450c9ac5dd",
   "metadata": {
    "collapsed": false
   },
   "outputs": [],
   "source": [
    "org_structure = [customer, customer_manager, coder, code_execution_agent]"
   ]
  },
  {
   "cell_type": "markdown",
   "id": "725c74eb1659cbad",
   "metadata": {
    "collapsed": false
   },
   "source": [
    "## 开始会话\n",
    "___\n",
    "\n",
    "与 agent 的初次对话，需要在发送的消息中添加 task_tag 符号，用于创建任务，task_tag 的默认值为 \"/task\"。\n",
    "\n",
    "后续对话中如果使用 task_tag 符号，则是对当前任务发表意见或看法。"
   ]
  },
  {
   "cell_type": "code",
   "execution_count": null,
   "id": "3e73798b3ba2dfb2",
   "metadata": {
    "collapsed": false
   },
   "outputs": [],
   "source": [
    "# 参数：\n",
    "# 1.组织架构\n",
    "# 2.邀请第一个发言的 agent 名称\n",
    "# 3.更改 task_tag 的值，默认为 \"/task\"\n",
    "autogan.AgentSwitch(org_structure, \"/任务\", customer, llm_config_dict);"
   ]
  }
 ],
 "metadata": {
  "kernelspec": {
   "display_name": "Python 3 (ipykernel)",
   "language": "python",
   "name": "python3"
  },
  "language_info": {
   "codemirror_mode": {
    "name": "ipython",
    "version": 3
   },
   "file_extension": ".py",
   "mimetype": "text/x-python",
   "name": "python",
   "nbconvert_exporter": "python",
   "pygments_lexer": "ipython3",
   "version": "3.10.12"
  }
 },
 "nbformat": 4,
 "nbformat_minor": 5
}
