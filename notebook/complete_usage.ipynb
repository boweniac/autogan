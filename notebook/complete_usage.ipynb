{
 "cells": [
  {
   "cell_type": "markdown",
   "id": "da1b89b1b086a68b",
   "metadata": {
    "collapsed": false
   },
   "source": [
    "# Complete Usage\n",
    "___\n",
    "\n",
    "在这个示例中，将尽可能详细的介绍各项配置、预置 agent、组织架构等内容。\n",
    "\n",
    "相较于 Quick Start，当前 notebook 有些冗长，建议初次接触者可以先从 Quick Start 开始。"
   ]
  },
  {
   "cell_type": "markdown",
   "id": "46cc0be540f07458",
   "metadata": {
    "collapsed": false
   },
   "source": [
    "## 安装框架\n",
    "___\n",
    "\n",
    "AutoGenius requires Python version >= 3.8. It can be installed from pip:"
   ]
  },
  {
   "cell_type": "code",
   "execution_count": null,
   "id": "e8313855-137f-4a22-a93d-34958a4e7a15",
   "metadata": {},
   "outputs": [],
   "source": [
    "%%capture --no-stderr\n",
    "%pip install pyautogan"
   ]
  },
  {
   "cell_type": "code",
   "execution_count": null,
   "id": "9e886913-abb7-45cd-8160-f2a8b522bd99",
   "metadata": {},
   "outputs": [],
   "source": [
    "import autogan"
   ]
  },
  {
   "cell_type": "markdown",
   "id": "7012e28a6eaa5896",
   "metadata": {
    "collapsed": false
   },
   "source": [
    "## 构建 Agents\n",
    "___\n",
    "\n",
    "所有 agent 都是在 UniversalAgent 基类之上构建的，其主要属性如下：\n",
    "\n",
    "* **name:** 该属性相当于 agent 的地址，用于 agent 之间的相互识别与沟通，因此该属性的值应当是全局唯一的。\n",
    "* **duty:** 用于向其他 agent 介绍自身职责及能力。\n",
    "* **work_flow:** 用于定义 agent 自身的工作流程。\n",
    "\n",
    "\n",
    "### 人工 agent\n",
    "\n",
    "真人员工的数字化身，用来与其他 agent 协同工作。"
   ]
  },
  {
   "cell_type": "code",
   "execution_count": null,
   "id": "ae4c9e9fe4bebf4e",
   "metadata": {
    "collapsed": false
   },
   "outputs": [],
   "source": [
    "# 参数：\n",
    "# 1.agent's name 应当是唯一的\n",
    "# 2.向其他 agent 介绍自己的职责\n",
    "human = autogan.HumanAgent(\"客户\", \"please help me.\")"
   ]
  },
  {
   "cell_type": "markdown",
   "id": "198b04dbc795a477",
   "metadata": {
    "collapsed": false
   },
   "source": [
    "### 普通 agent\n",
    "\n",
    "仅依靠 LLM 本身的能力完成各项任务，不使用其他工具函数辅助。\n",
    "\n",
    "1. 配置"
   ]
  },
  {
   "cell_type": "code",
   "execution_count": null,
   "id": "33e887baf5bf4cf8",
   "metadata": {
    "collapsed": false
   },
   "outputs": [],
   "source": [
    "# 通过 dict_from_json 函数读取 LLM 配置\n",
    "llm_config_dict = autogan.dict_from_json(\"LLM_CONFIG\")"
   ]
  },
  {
   "cell_type": "markdown",
   "id": "348c52a36808d3be",
   "metadata": {
    "collapsed": false
   },
   "source": [
    "    dict_from_json 该函数会优先从环境变量 \"LLM_CONFIG\" 中获取配置，如环境变量中没有找到 \"LLM_CONFIG\"，则会从当前目录中名为 \"LLM_CONFIG\" 的文件内读取配置。\n",
    "    \n",
    "    配置内容解构如下：\n",
    "    ```json\n",
    "    {\n",
    "        \"main_model\": {\n",
    "            \"api_key_list\": [\n",
    "                {\n",
    "                    \"model\": \"gpt-4\",\n",
    "                    \"api_key\": \"<your OpenAI API key here>\",\n",
    "                    \"api_type\": \"openai\"\n",
    "                },{\n",
    "                    \"model\": \"gpt-4-32k\",\n",
    "                    \"api_key\": \"<your Azure OpenAI API key here>\",\n",
    "                    \"api_base\": \"<your Azure OpenAI API base here>\",\n",
    "                    \"api_type\": \"azure\",\n",
    "                    \"api_version\": \"2023-07-01-preview\"\n",
    "                },{\n",
    "                    \"model\": \"gpt-4\",\n",
    "                    \"Authorization\": \"<your OpenAI Like API header Authorization here>\",\n",
    "                    \"api_type\": \"openai like\",\n",
    "                    \"url\": \"<your Azure OpenAI API url here>\"\n",
    "                }\n",
    "            ],\n",
    "            \"model_filter\": \"gpt-4\",\n",
    "            \"max_messages_tokens\": 4096\n",
    "        },\n",
    "        \"summary_model\": {\n",
    "            \"api_key_list\": [\n",
    "                {\n",
    "                    \"model\": \"gpt-3.5-turbo\",\n",
    "                    \"api_key\": \"<your OpenAI API key here>\",\n",
    "                    \"api_type\": \"openai\"\n",
    "                }\n",
    "            ],\n",
    "            \"model_filter\": \"gpt-4\",\n",
    "            \"max_messages_tokens\": 4096\n",
    "        },\n",
    "        \"request_interval_time\": 1,\n",
    "        \"request_timeout\": 120,\n",
    "        \"max_retries\": 3\n",
    "    }\n",
    "    ```\n",
    "    \n",
    "    - main_model: The LLM configuration of the agent's main body.\n",
    "        - api_key_list: LLM model configuration list. During the request process, the system will attempt in a predetermined order. If the current request fails, the system will automatically switch to the next configuration for another attempt.\n",
    "        - max_messages_tokens: LLM model configuration used for compressing future conversation records or other text content.\n",
    "    \n",
    "    - summary_model: The LLM configuration used for compressing context and generating text summaries. This configuration is optional, when it is missing, the framework will use \n",
    "        the configuration of the main_model for context or text compression.\n",
    "        - api_key_list: LLM model configuration list. During the request process, the system will attempt in a predetermined order. If the current request fails, the system will automatically switch to the next configuration for another attempt.\n",
    "        - max_messages_tokens: LLM model configuration used for compressing future conversation records or other text content.\n",
    "    \n",
    "    - request_interval_time: The interval time of LLM requests.\n",
    "    \n",
    "    - request_timeout:The timeout of LLM requests.\n",
    "    \n",
    "    - max_retries: The maximum number of retries for LLM requests.\n",
    "    \n",
    "    **注意：**  框架目前仅适配了 openai、azure、自定义类 openai 接口的 chat 模型。\n",
    "\n",
    "2. 构建"
   ]
  },
  {
   "cell_type": "code",
   "execution_count": null,
   "id": "e9a962a2396b8dae",
   "metadata": {
    "collapsed": false
   },
   "outputs": [],
   "source": [
    "# 参数：\n",
    "# 1.agent's name 应当是唯一的\n",
    "# 2.LLM 配置\n",
    "# 3.向其他 agent 介绍自己的职责\n",
    "# 4.agent's workflow\n",
    "cust_manager = autogan.UniversalAgent(\"客户经理\", duty=\"Responsible for receiving customers\", work_flow=\"\"\"\n",
    "1. Do everything possible to meet the legal needs of the client, do not give up before satisfying the client's requirements. Note: If the client provides documents, consider finding the answers from the documents first.\n",
    "2. If there is no correct answer, make it clear, instead of giving a wrong answer.\"\"\")\n",
    "\n",
    "# 参数：\n",
    "# 1.agent's name 应当是唯一的\n",
    "# 2.LLM 配置\n",
    "# 3.向其他 agent 介绍自己的职责\n",
    "# 4.agent's workflow\n",
    "coder = autogan.UniversalAgent(\"Coder\", duty=\"I can accomplish tasks previously impossible for you by writing programs.\", work_flow=\"I hope you are an experienced Python programmer. Before writing code, please prepare the following: If code is generated, you must @CodeExecSpec at the beginning of the reply content. The output code must be enclosed with ``` symbol. When the program runs with missing dependencies, you can write the statement to install the dependencies and then @CodeExecSpec to install the relevant dependencies.\")"
   ]
  },
  {
   "cell_type": "markdown",
   "id": "e6515f339f1fd949",
   "metadata": {
    "collapsed": false
   },
   "source": [
    "### 网络搜索 agent\n",
    "\n",
    "ToolAgentWebSearch 为框架预置的 agent，能够利用 Google Programmable Search Engine 的 Custom Search JSON API 从网络上搜索资料。\n",
    "\n",
    "1. 配置\n",
    "\n",
    "    获取 Custom Search JSON API 配置参数，请参见其 [官方文档](https://developers.google.com/custom-search/v1/overview?hl=en)"
   ]
  },
  {
   "cell_type": "code",
   "execution_count": null,
   "id": "adc41dc1-b5f3-4d6d-af5b-89a3d17c082b",
   "metadata": {},
   "outputs": [],
   "source": [
    "# 通过 dict_from_json 函数读取 google search api 配置\n",
    "google_search_config_dict = autogan.dict_from_json(\"GOOGLE_SEARCH_CONFIG\")"
   ]
  },
  {
   "cell_type": "markdown",
   "id": "d759ac8bc05d5afd",
   "metadata": {
    "collapsed": false
   },
   "source": [
    "    dict_from_json 该函数会优先从环境变量 \"GOOGLE_SEARCH_CONFIG\" 中获取配置，如环境变量中没有找到 \"GOOGLE_SEARCH_CONFIG\"，则会从当前目录中名为 \"GOOGLE_SEARCH_CONFIG\" 的文件内读取配置。\n",
    "        \n",
    "    配置内容解构如下：\n",
    "    ```json\n",
    "    {\n",
    "        \"cx\": \"<your Programmable Search Engine ID here>\",\n",
    "        \"key\": \"<your Custom Search JSON API access key here>\"\n",
    "    }\n",
    "    ```\n",
    "2. 构建"
   ]
  },
  {
   "cell_type": "code",
   "execution_count": null,
   "id": "d825a2b5-ceac-4a28-8c62-c934748efe90",
   "metadata": {},
   "outputs": [],
   "source": [
    "# 参数：\n",
    "# 1.LLM 配置，参见上方构建普通 agent 的内容\n",
    "# 2.Custom Search JSON API 配置\n",
    "# 3.agent's name 应当是唯一的\n",
    "web_search_exp = autogan.ToolAgentWebSearch(google_search_config_dict, name=\"WebSearchExp\")"
   ]
  },
  {
   "cell_type": "markdown",
   "id": "fae1fc8e8093a209",
   "metadata": {
    "collapsed": false
   },
   "source": [
    "**提示：**你可以通过初始化参数或属性对其 duty 和 workflow 进行自定义。"
   ]
  },
  {
   "cell_type": "markdown",
   "id": "9e8fadb7144b2a00",
   "metadata": {
    "collapsed": false
   },
   "source": [
    "### WolframAlpha agent\n",
    "\n",
    "ToolAgentWolframAlpha 为框架预置的 agent，能够利用 WolframAlpha API 获取问题的答案。\n",
    "\n",
    "1. 配置\n",
    "\n",
    "    获取 WolframAlpha API 配置参数，请访问其 [官方网站](https://developer.wolframalpha.com) 创建 APP ID"
   ]
  },
  {
   "cell_type": "code",
   "execution_count": null,
   "id": "06e58e66-66c9-45e2-a3cf-4dd6fcfe60df",
   "metadata": {},
   "outputs": [],
   "source": [
    "wolfram_alpha_config_dict = autogan.dict_from_json(\"WOLFRAM_ALPHA_CONFIG\")"
   ]
  },
  {
   "cell_type": "markdown",
   "id": "3665a772fb0501a6",
   "metadata": {
    "collapsed": false
   },
   "source": [
    "    dict_from_json 该函数会优先从环境变量 \"WOLFRAM_ALPHA_CONFIG\" 中获取配置，如环境变量中没有找到 \"WOLFRAM_ALPHA_CONFIG\"，则会从当前目录中名为 \"WOLFRAM_ALPHA_CONFIG\" 的文件内读取配置。\n",
    "        \n",
    "    配置内容解构如下：\n",
    "    ```json\n",
    "    {\n",
    "        \"app_id\": \"<your WolframAlpha APP ID here>\"\n",
    "    }\n",
    "    ```\n",
    "   \n",
    "2. 构建"
   ]
  },
  {
   "cell_type": "code",
   "execution_count": null,
   "id": "4b3c7cb0c6a0f8bc",
   "metadata": {
    "collapsed": false
   },
   "outputs": [],
   "source": [
    "# 参数：\n",
    "# 1.LLM 配置，参见上方构建普通 agent 的内容\n",
    "# 2.WolframAlpha API 配置\n",
    "# 3.agent's name 应当是唯一的\n",
    "wolfram_alpha_exp = autogan.ToolAgentWolframAlpha(wolfram_alpha_config_dict, name=\"WolframAlphaExp\")"
   ]
  },
  {
   "cell_type": "markdown",
   "id": "91e7cd584aea2299",
   "metadata": {
    "collapsed": false
   },
   "source": [
    "**提示：**你可以通过初始化参数或属性对其 duty 和 workflow 进行自定义。"
   ]
  },
  {
   "cell_type": "markdown",
   "id": "6694ff0878ef79a4",
   "metadata": {
    "collapsed": false
   },
   "source": [
    "### Mail agent\n",
    "\n",
    "ToolAgentMail 为框架预置的 agent，作用是根据要求发送邮件。\n",
    "\n",
    "1. 配置"
   ]
  },
  {
   "cell_type": "code",
   "execution_count": null,
   "id": "cbe8cdbb818a3274",
   "metadata": {
    "collapsed": false
   },
   "outputs": [],
   "source": [
    "mail_config_dict = autogan.dict_from_json(\"MAIL_CONFIG\")"
   ]
  },
  {
   "cell_type": "markdown",
   "id": "442ca2aef35a0855",
   "metadata": {
    "collapsed": false
   },
   "source": [
    "    dict_from_json 该函数会优先从环境变量 \"MAIL_CONFIG\" 中获取配置，如环境变量中没有找到 \"MAIL_CONFIG\"，则会从当前目录中名为 \"MAIL_CONFIG\" 的文件内读取配置。\n",
    "        \n",
    "    配置内容解构如下：\n",
    "    ```json\n",
    "    {\n",
    "        \"server\": \"<your Mail Send Server here>\",\n",
    "        \"port\": 465,\n",
    "        \"username\": \"<your Mail Server User Name here>\",\n",
    "        \"password\": \"<your Mail Server User Password here>\"\n",
    "    }\n",
    "    ```\n",
    "   \n",
    "2. 构建"
   ]
  },
  {
   "cell_type": "code",
   "execution_count": null,
   "id": "7812fbda642f9f83",
   "metadata": {
    "collapsed": false
   },
   "outputs": [],
   "source": [
    "# 参数：\n",
    "# 1.Mail 配置\n",
    "# 2.agent's name 应当是唯一的\n",
    "mail_spec = autogan.ToolAgentMail(mail_config_dict, \"MailSpec\")"
   ]
  },
  {
   "cell_type": "markdown",
   "id": "c5d3ebc88ad4884a",
   "metadata": {
    "collapsed": false
   },
   "source": [
    "**提示：**你可以通过初始化参数或属性对其 duty 和 workflow 进行自定义。"
   ]
  },
  {
   "cell_type": "markdown",
   "id": "58e5583a7c636db3",
   "metadata": {
    "collapsed": false
   },
   "source": [
    "### 文档操作 agent\n",
    "\n",
    "ToolAgentFileRead 与 ToolAgentFileAppend 为框架预置的 agent，可打开 word、excel、pdf 文档，以及向 word 文档中追加文本内容。"
   ]
  },
  {
   "cell_type": "code",
   "execution_count": null,
   "id": "2bd9b46295147cd5",
   "metadata": {
    "collapsed": false
   },
   "outputs": [],
   "source": [
    "# 参数：\n",
    "# 1.Mail 配置\n",
    "# 2.agent's name 应当是唯一的\n",
    "file_read_exp = autogan.ToolAgentFileRead(name=\"FileReadExp\")\n",
    "\n",
    "# 参数：\n",
    "# 1.agent's name 应当是唯一的\n",
    "file_append_spec = autogan.ToolAgentFileAppend(\"FileAppendSpec\")\n",
    "\n",
    "# 参数：\n",
    "# 1.agent's name 应当是唯一的\n",
    "# 2.LLM 配置\n",
    "# 3.向其他 agent 介绍自己的职责\n",
    "# 4.agent's workflow\n",
    "doc_admin = autogan.UniversalAgent(\"DocAdmin\", duty=\"I can open Word, Excel, PDF documents, or append text to a Word document.\", work_flow=\"I hope you can complete the task with the help of professionals.\")"
   ]
  },
  {
   "cell_type": "markdown",
   "id": "40a8dd86669d313c",
   "metadata": {
    "collapsed": false
   },
   "source": [
    "**提示：**你可以通过初始化参数或属性对其 duty 和 workflow 进行自定义。"
   ]
  },
  {
   "cell_type": "markdown",
   "id": "c121ba7bd65c2a49",
   "metadata": {
    "collapsed": false
   },
   "source": [
    "### 代码执行 agent\n",
    "\n",
    "ToolAgentCodeExecution 为框架预置的 agent，可以执行 Python 和 shell 代码并返回结果。"
   ]
  },
  {
   "cell_type": "code",
   "execution_count": null,
   "id": "2cc8354ce5a5af97",
   "metadata": {
    "collapsed": false
   },
   "outputs": [],
   "source": [
    "# 参数：\n",
    "# 1.agent's name 应当是唯一的\n",
    "code_execution_agent = autogan.ToolAgentCodeExecution(\"CodeExecSpec\")"
   ]
  },
  {
   "cell_type": "markdown",
   "id": "55c576cdad51f207",
   "metadata": {
    "collapsed": false
   },
   "source": [
    "**提示：**你可以通过初始化参数或属性对其 duty 和 workflow 进行自定义。"
   ]
  },
  {
   "cell_type": "markdown",
   "id": "e72e39992f30d173",
   "metadata": {
    "collapsed": false
   },
   "source": [
    "## 构建组织架构\n",
    "___\n",
    "\n",
    "考虑到并非所有 agent 之间都需要建立协作关系，且过多无用的协作关系会影响到 agent 决策的准确性。\n",
    "因此本框架引入了组织架构的概念，让需要相互协作的 agent 组成独立的数字部门，以更加专注于解决特定领域的问题。\n",
    "\n",
    "创建组织架构的方式非常简单，只需要定义一个存储 agent 对象的多维列表。"
   ]
  },
  {
   "cell_type": "code",
   "execution_count": null,
   "id": "5b7dbf04fc82d86f",
   "metadata": {
    "collapsed": false
   },
   "outputs": [],
   "source": [
    "org_structure = [human, cust_manager, web_search_exp, wolfram_alpha_exp, mail_spec, [coder, code_execution_agent], [doc_admin, file_read_exp, file_append_spec]]"
   ]
  },
  {
   "cell_type": "markdown",
   "id": "7c0e1f1ea6cced76",
   "metadata": {
    "collapsed": false
   },
   "source": [
    "每个 list 相当于一个部门，各部门的第一个 agent 为部门的 leader，负责与上级部门的 agent 进行沟通。\n",
    "因此 leader 的 duty 属性应当概述整个部门的职测与能力。"
   ]
  },
  {
   "cell_type": "markdown",
   "id": "f97323dfea7c6157",
   "metadata": {
    "collapsed": false
   },
   "source": [
    "## 开始会话\n",
    "___\n",
    "\n",
    "与 agent 的初次对话，需要在发送的消息中添加 task_tag 符号，用于创建任务，task_tag 的默认值为 \"/task\"。\n",
    "\n",
    "后续对话中如果使用 task_tag 符号，则是对当前任务发表意见或看法。"
   ]
  },
  {
   "cell_type": "code",
   "execution_count": null,
   "id": "e7b97dab-7e3f-4af2-bca6-d31a0223c959",
   "metadata": {},
   "outputs": [],
   "source": [
    "# 参数：\n",
    "# 1.组织架构\n",
    "# 2.邀请第一个发言的 agent 名称\n",
    "# 3.更改 task_tag 的值，默认为 \"/task\"\n",
    "autogan.AgentSwitch(org_structure, \"hello\", human, llm_config_dict);"
   ]
  }
 ],
 "metadata": {
  "kernelspec": {
   "display_name": "Python 3 (ipykernel)",
   "language": "python",
   "name": "python3"
  },
  "language_info": {
   "codemirror_mode": {
    "name": "ipython",
    "version": 3
   },
   "file_extension": ".py",
   "mimetype": "text/x-python",
   "name": "python",
   "nbconvert_exporter": "python",
   "pygments_lexer": "ipython3",
   "version": "3.10.12"
  }
 },
 "nbformat": 4,
 "nbformat_minor": 5
}
