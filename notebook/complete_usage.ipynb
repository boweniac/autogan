{
 "cells": [
  {
   "cell_type": "markdown",
   "id": "da1b89b1b086a68b",
   "metadata": {
    "collapsed": false,
    "jupyter": {
     "outputs_hidden": false
    }
   },
   "source": [
    "# Complete Usage\n",
    "___\n",
    "\n",
    "在这个示例中，将尽可能详细的介绍各项配置、预置 agent、组织架构等内容。\n",
    "\n",
    "相较于 Quick Start，当前 notebook 有些冗长，建议初次接触者可以先从 Quick Start 开始。"
   ]
  },
  {
   "cell_type": "markdown",
   "id": "46cc0be540f07458",
   "metadata": {
    "collapsed": false,
    "jupyter": {
     "outputs_hidden": false
    }
   },
   "source": [
    "## 安装框架\n",
    "___\n",
    "\n",
    "AutoGan requires Python version >= 3.8. It can be installed from pip:"
   ]
  },
  {
   "cell_type": "code",
   "execution_count": 1,
   "id": "e8313855-137f-4a22-a93d-34958a4e7a15",
   "metadata": {
    "ExecuteTime": {
     "end_time": "2023-12-08T06:43:45.660182Z",
     "start_time": "2023-12-08T06:43:42.348259Z"
    }
   },
   "outputs": [],
   "source": [
    "# %%capture --no-stderr\n",
    "# %pip install --upgrade pyautogan"
   ]
  },
  {
   "cell_type": "code",
   "execution_count": 2,
   "id": "9e886913-abb7-45cd-8160-f2a8b522bd99",
   "metadata": {
    "is_executing": true
   },
   "outputs": [],
   "source": [
    "import autogan\n",
    "\n",
    "# print(autogan.__file__)"
   ]
  },
  {
   "cell_type": "markdown",
   "id": "7012e28a6eaa5896",
   "metadata": {
    "collapsed": false,
    "jupyter": {
     "outputs_hidden": false
    }
   },
   "source": [
    "## 构建 Agents\n",
    "___\n",
    "\n",
    "所有 agent 都是在 UniversalAgent 基类之上构建的，其主要属性如下：\n",
    "\n",
    "* **name:** 该属性相当于 agent 的地址，用于 agent 之间的相互识别与沟通，因此该属性的值应当是全局唯一的。\n",
    "* **duty:** 用于向其他 agent 介绍自身职责及能力。\n",
    "* **work_flow:** 用于定义 agent 自身的工作流程。\n",
    "\n",
    "\n",
    "### 人工 agent\n",
    "\n",
    "真人员工的数字化身，用来与其他 agent 协同工作。"
   ]
  },
  {
   "cell_type": "code",
   "execution_count": 3,
   "id": "ae4c9e9fe4bebf4e",
   "metadata": {
    "collapsed": false,
    "is_executing": true,
    "jupyter": {
     "outputs_hidden": false
    }
   },
   "outputs": [],
   "source": [
    "# 参数：\n",
    "# 1.agent's name 应当是唯一的\n",
    "# 2.向其他 agent 介绍自己的职责\n",
    "human = autogan.HumanAgent(\"客户\", \"please help me.\")"
   ]
  },
  {
   "cell_type": "markdown",
   "id": "198b04dbc795a477",
   "metadata": {
    "collapsed": false,
    "jupyter": {
     "outputs_hidden": false
    }
   },
   "source": [
    "### 普通 agent\n",
    "\n",
    "仅依靠 LLM 本身的能力完成各项任务，不使用其他工具函数辅助。\n",
    "\n",
    "1. 配置"
   ]
  },
  {
   "cell_type": "code",
   "execution_count": 4,
   "id": "33e887baf5bf4cf8",
   "metadata": {
    "collapsed": false,
    "is_executing": true,
    "jupyter": {
     "outputs_hidden": false
    }
   },
   "outputs": [],
   "source": [
    "# 通过 dict_from_json 函数读取 LLM 配置\n",
    "llm_config_dict = autogan.dict_from_json(\"LLM_CONFIG\")"
   ]
  },
  {
   "cell_type": "markdown",
   "id": "348c52a36808d3be",
   "metadata": {
    "collapsed": false,
    "jupyter": {
     "outputs_hidden": false
    }
   },
   "source": [
    "    dict_from_json 该函数会优先从环境变量 \"LLM_CONFIG\" 中获取配置，如环境变量中没有找到 \"LLM_CONFIG\"，则会从当前目录中名为 \"LLM_CONFIG\" 的文件内读取配置。\n",
    "    \n",
    "    配置内容解构如下：\n",
    "    ```json\n",
    "    {\n",
    "        \"main_model\": {\n",
    "            \"api_key_list\": [\n",
    "                {\n",
    "                    \"model\": \"gpt-4\",\n",
    "                    \"api_key\": \"<your OpenAI API key here>\",\n",
    "                    \"api_type\": \"openai\"\n",
    "                },{\n",
    "                    \"model\": \"gpt-4-32k\",\n",
    "                    \"api_key\": \"<your Azure OpenAI API key here>\",\n",
    "                    \"api_base\": \"<your Azure OpenAI API base here>\",\n",
    "                    \"api_type\": \"azure\",\n",
    "                    \"api_version\": \"2023-07-01-preview\"\n",
    "                },{\n",
    "                    \"model\": \"gpt-4\",\n",
    "                    \"Authorization\": \"<your OpenAI Like API header Authorization here>\",\n",
    "                    \"api_type\": \"openai like\",\n",
    "                    \"url\": \"<your Azure OpenAI API url here>\"\n",
    "                }\n",
    "            ],\n",
    "            \"model_filter\": \"gpt-4\",\n",
    "            \"max_messages_tokens\": 4096\n",
    "        },\n",
    "        \"summary_model\": {\n",
    "            \"api_key_list\": [\n",
    "                {\n",
    "                    \"model\": \"gpt-3.5-turbo\",\n",
    "                    \"api_key\": \"<your OpenAI API key here>\",\n",
    "                    \"api_type\": \"openai\"\n",
    "                }\n",
    "            ],\n",
    "            \"model_filter\": \"gpt-4\",\n",
    "            \"max_messages_tokens\": 4096\n",
    "        },\n",
    "        \"request_interval_time\": 1,\n",
    "        \"request_timeout\": 120,\n",
    "        \"max_retries\": 3\n",
    "    }\n",
    "    ```\n",
    "    \n",
    "    - main_model: The LLM configuration of the agent's main body.\n",
    "        - api_key_list: LLM model configuration list. During the request process, the system will attempt in a predetermined order. If the current request fails, the system will automatically switch to the next configuration for another attempt.\n",
    "        - max_messages_tokens: LLM model configuration used for compressing future conversation records or other text content.\n",
    "    \n",
    "    - summary_model: The LLM configuration used for compressing context and generating text summaries. This configuration is optional, when it is missing, the framework will use \n",
    "        the configuration of the main_model for context or text compression.\n",
    "        - api_key_list: LLM model configuration list. During the request process, the system will attempt in a predetermined order. If the current request fails, the system will automatically switch to the next configuration for another attempt.\n",
    "        - max_messages_tokens: LLM model configuration used for compressing future conversation records or other text content.\n",
    "    \n",
    "    - request_interval_time: The interval time of LLM requests.\n",
    "    \n",
    "    - request_timeout:The timeout of LLM requests.\n",
    "    \n",
    "    - max_retries: The maximum number of retries for LLM requests.\n",
    "    \n",
    "    **注意：**  框架目前仅适配了 openai、azure、自定义类 openai 接口的 chat 模型。\n",
    "\n",
    "2. 构建"
   ]
  },
  {
   "cell_type": "code",
   "execution_count": 5,
   "id": "e9a962a2396b8dae",
   "metadata": {
    "collapsed": false,
    "is_executing": true,
    "jupyter": {
     "outputs_hidden": false
    }
   },
   "outputs": [],
   "source": [
    "# 参数：\n",
    "# 1.agent's name 应当是唯一的\n",
    "# 2.向其他 agent 介绍自己的职责\n",
    "# 3.agent's workflow\n",
    "cust_manager = autogan.UniversalAgent(\"客户经理\", duty=\"Responsible for receiving customers\", work_flow=\"\"\"\n",
    "1. Do everything possible to meet the legal needs of the client, do not give up before satisfying the client's requirements. Note: If the client provides documents, consider finding the answers from the documents first.\n",
    "2. If there is no correct answer, make it clear, instead of giving a wrong answer.\"\"\")\n",
    "\n",
    "# 参数：\n",
    "# 1.agent's name 应当是唯一的\n",
    "# 2.向其他 agent 介绍自己的职责\n",
    "# 3.agent's workflow\n",
    "coder = autogan.UniversalAgent(\"Coder\", duty=\"I can accomplish tasks previously impossible for you by writing programs.\", work_flow=\"I hope you are an experienced Python programmer. Before writing code, please prepare the following: If code is generated, you must @CodeExecSpec at the beginning of the reply content. The output code must be enclosed with ``` symbol. When the program runs with missing dependencies, you can write the statement to install the dependencies and then @CodeExecSpec to install the relevant dependencies.\")"
   ]
  },
  {
   "cell_type": "markdown",
   "id": "e6515f339f1fd949",
   "metadata": {
    "collapsed": false,
    "jupyter": {
     "outputs_hidden": false
    }
   },
   "source": [
    "### 网络搜索 agent\n",
    "\n",
    "ToolAgentSearch 为框架预置的 agent，可以通过一下方式进行网络搜索：\n",
    "\n",
    "* 利用 Google Programmable Search Engine 的 Custom Search JSON API 从网络上搜索资料。\n",
    "  \n",
    "* 利用 WolframAlpha API 获取问题的答案。\n",
    "\n",
    "1. 配置\n",
    "\n",
    "* 获取 Custom Search JSON API 配置参数，请参见其 [官方文档](https://developers.google.com/custom-search/v1/overview?hl=en)\n",
    "\n",
    "* 获取 WolframAlpha API 配置参数，请访问其 官方网站 创建 APP ID"
   ]
  },
  {
   "cell_type": "code",
   "execution_count": 6,
   "id": "adc41dc1-b5f3-4d6d-af5b-89a3d17c082b",
   "metadata": {
    "is_executing": true
   },
   "outputs": [],
   "source": [
    "# 通过 dict_from_json 函数读取 google search api 配置\n",
    "search_config_dict = autogan.dict_from_json(\"SEARCH_CONFIG\")"
   ]
  },
  {
   "cell_type": "markdown",
   "id": "d759ac8bc05d5afd",
   "metadata": {
    "collapsed": false,
    "jupyter": {
     "outputs_hidden": false
    }
   },
   "source": [
    "    dict_from_json 该函数会优先从环境变量 \"SEARCH_CONFIG\" 中获取配置，如环境变量中没有找到 \"SEARCH_CONFIG\"，则会从当前目录中名为 \"SEARCH_CONFIG\" 的文件内读取配置。\n",
    "        \n",
    "    配置内容解构如下：\n",
    "    ```json\n",
    "    {\n",
    "        \"google_search\": {\n",
    "            \"cx\": \"<your Programmable Search Engine ID here>\",\n",
    "            \"key\": \"<your Custom Search JSON API access key here>\"\n",
    "        },\n",
    "        \"wolfram_alpha\": {\n",
    "            \"app_id\": \"<your WolframAlpha APP ID here>\"\n",
    "        }\n",
    "    }\n",
    "    ```\n",
    "2. 构建"
   ]
  },
  {
   "cell_type": "code",
   "execution_count": 7,
   "id": "d825a2b5-ceac-4a28-8c62-c934748efe90",
   "metadata": {
    "is_executing": true
   },
   "outputs": [],
   "source": [
    "# 参数：\n",
    "# 1.Custom Search JSON API 配置\n",
    "# 2.agent's name 应当是唯一的\n",
    "web_search_exp = autogan.ToolAgentSearch(search_config_dict, name=\"WebSearchExp\")"
   ]
  },
  {
   "cell_type": "markdown",
   "id": "fae1fc8e8093a209",
   "metadata": {
    "collapsed": false,
    "jupyter": {
     "outputs_hidden": false
    }
   },
   "source": [
    "**提示：**你可以通过初始化参数或属性对其 duty 和 workflow 进行自定义。"
   ]
  },
  {
   "cell_type": "markdown",
   "id": "6694ff0878ef79a4",
   "metadata": {
    "collapsed": false,
    "jupyter": {
     "outputs_hidden": false
    }
   },
   "source": [
    "### Mail agent\n",
    "\n",
    "ToolAgentMail 为框架预置的 agent，作用是根据要求发送邮件。\n",
    "\n",
    "1. 配置"
   ]
  },
  {
   "cell_type": "code",
   "execution_count": 8,
   "id": "cbe8cdbb818a3274",
   "metadata": {
    "collapsed": false,
    "is_executing": true,
    "jupyter": {
     "outputs_hidden": false
    }
   },
   "outputs": [],
   "source": [
    "mail_config_dict = autogan.dict_from_json(\"MAIL_CONFIG\")"
   ]
  },
  {
   "cell_type": "markdown",
   "id": "442ca2aef35a0855",
   "metadata": {
    "collapsed": false,
    "jupyter": {
     "outputs_hidden": false
    }
   },
   "source": [
    "    dict_from_json 该函数会优先从环境变量 \"MAIL_CONFIG\" 中获取配置，如环境变量中没有找到 \"MAIL_CONFIG\"，则会从当前目录中名为 \"MAIL_CONFIG\" 的文件内读取配置。\n",
    "        \n",
    "    配置内容解构如下：\n",
    "    ```json\n",
    "    {\n",
    "        \"server\": \"<your Mail Send Server here>\",\n",
    "        \"port\": 465,\n",
    "        \"username\": \"<your Mail Server User Name here>\",\n",
    "        \"password\": \"<your Mail Server User Password here>\"\n",
    "    }\n",
    "    ```\n",
    "   \n",
    "2. 构建"
   ]
  },
  {
   "cell_type": "code",
   "execution_count": 9,
   "id": "7812fbda642f9f83",
   "metadata": {
    "collapsed": false,
    "is_executing": true,
    "jupyter": {
     "outputs_hidden": false
    }
   },
   "outputs": [],
   "source": [
    "# 参数：\n",
    "# 1.Mail 配置\n",
    "# 2.agent's name 应当是唯一的\n",
    "mail_spec = autogan.ToolAgentMail(mail_config_dict, \"MailSpec\")"
   ]
  },
  {
   "cell_type": "markdown",
   "id": "c5d3ebc88ad4884a",
   "metadata": {
    "collapsed": false,
    "jupyter": {
     "outputs_hidden": false
    }
   },
   "source": [
    "**提示：**你可以通过初始化参数或属性对其 duty 和 workflow 进行自定义。"
   ]
  },
  {
   "cell_type": "markdown",
   "id": "58e5583a7c636db3",
   "metadata": {
    "collapsed": false,
    "jupyter": {
     "outputs_hidden": false
    }
   },
   "source": [
    "### 文档操作 agent\n",
    "\n",
    "ToolAgentFile 为框架预置的 agent，可打开 word、excel、pdf 文档，以及向 word 文档中追加文本内容。"
   ]
  },
  {
   "cell_type": "code",
   "execution_count": 10,
   "id": "2bd9b46295147cd5",
   "metadata": {
    "collapsed": false,
    "is_executing": true,
    "jupyter": {
     "outputs_hidden": false
    }
   },
   "outputs": [],
   "source": [
    "# 参数：\n",
    "# 1.agent's name 应当是唯一的\n",
    "file_exp = autogan.ToolAgentFile(name=\"FileExp\")"
   ]
  },
  {
   "cell_type": "markdown",
   "id": "40a8dd86669d313c",
   "metadata": {
    "collapsed": false,
    "jupyter": {
     "outputs_hidden": false
    }
   },
   "source": [
    "**提示：**你可以通过初始化参数或属性对其 duty 和 workflow 进行自定义。"
   ]
  },
  {
   "cell_type": "markdown",
   "id": "c121ba7bd65c2a49",
   "metadata": {
    "collapsed": false,
    "jupyter": {
     "outputs_hidden": false
    }
   },
   "source": [
    "### 代码执行 agent\n",
    "\n",
    "ToolAgentCodeExecution 为框架预置的 agent，可以执行 Python 和 shell 代码并返回结果。"
   ]
  },
  {
   "cell_type": "code",
   "execution_count": 11,
   "id": "2cc8354ce5a5af97",
   "metadata": {
    "collapsed": false,
    "is_executing": true,
    "jupyter": {
     "outputs_hidden": false
    }
   },
   "outputs": [],
   "source": [
    "# 参数：\n",
    "# 1.agent's name 应当是唯一的\n",
    "code_execution_agent = autogan.ToolAgentCodeExecution(\"CodeExecSpec\")"
   ]
  },
  {
   "cell_type": "markdown",
   "id": "55c576cdad51f207",
   "metadata": {
    "collapsed": false,
    "jupyter": {
     "outputs_hidden": false
    }
   },
   "source": [
    "**提示：**你可以通过初始化参数或属性对其 duty 和 workflow 进行自定义。"
   ]
  },
  {
   "cell_type": "markdown",
   "id": "e72e39992f30d173",
   "metadata": {
    "collapsed": false,
    "jupyter": {
     "outputs_hidden": false
    }
   },
   "source": [
    "## 构建组织架构\n",
    "___\n",
    "\n",
    "考虑到并非所有 agent 之间都需要建立协作关系，且过多无用的协作关系会影响到 agent 决策的准确性。\n",
    "因此本框架引入了组织架构的概念，让需要相互协作的 agent 组成独立的数字部门，以更加专注于解决特定领域的问题。\n",
    "\n",
    "创建组织架构的方式非常简单，只需要定义一个存储 agent 对象的多维列表。"
   ]
  },
  {
   "cell_type": "code",
   "execution_count": 12,
   "id": "5b7dbf04fc82d86f",
   "metadata": {
    "collapsed": false,
    "is_executing": true,
    "jupyter": {
     "outputs_hidden": false
    }
   },
   "outputs": [],
   "source": [
    "org_structure = [human, cust_manager, web_search_exp, mail_spec, [coder, code_execution_agent], file_exp]"
   ]
  },
  {
   "cell_type": "markdown",
   "id": "7c0e1f1ea6cced76",
   "metadata": {
    "collapsed": false,
    "jupyter": {
     "outputs_hidden": false
    }
   },
   "source": [
    "每个 list 相当于一个部门，各部门的第一个 agent 为部门的 leader，负责与上级部门的 agent 进行沟通。\n",
    "因此 leader 的 duty 属性应当概述整个部门的职测与能力。"
   ]
  },
  {
   "cell_type": "markdown",
   "id": "f97323dfea7c6157",
   "metadata": {
    "collapsed": false,
    "jupyter": {
     "outputs_hidden": false
    }
   },
   "source": [
    "## 开始会话\n",
    "___\n",
    "\n",
    "与 agent 的初次对话，需要在发送的消息中添加 task_tag 符号，用于创建任务，task_tag 的默认值为 \"/task\"。\n",
    "\n",
    "后续对话中如果使用 task_tag 符号，则是对当前任务发表意见或看法。"
   ]
  },
  {
   "cell_type": "code",
   "execution_count": 13,
   "id": "e7b97dab-7e3f-4af2-bca6-d31a0223c959",
   "metadata": {
    "is_executing": true
   },
   "outputs": [
    {
     "name": "stdin",
     "output_type": "stream",
     "text": [
      "Please enter:  @客户经理 hello 你好\n"
     ]
    },
    {
     "name": "stdout",
     "output_type": "stream",
     "text": [
      "\u001b[34m\n",
      "客户: @客户经理 hello 你好\u001b[0m\n",
      "\u001b[36m\n",
      "\n",
      ">>>>>>>> Observe whether the previous conversation fell into a cycle:\u001b[0m\n",
      "\n",
      "客户经理: \n",
      "None.\n",
      "\u001b[36m\n",
      "\n",
      ">>>>>>>> Reflect on whether there are any errors in the previous dialogue process:\u001b[0m\n",
      "\n",
      "客户经理: \n",
      "Step 5: Analysis Results\n",
      "\n",
      "Whether there are unresolved errors in the previous conversation: No\n",
      "\n",
      "If there are unresolved errors: N/A\n",
      "\n",
      "If there are unresolved errors, the root cause of the error: N/A\n",
      "\n",
      "If there are unresolved errors, how to solve it next: N/A\n",
      "\n",
      "Analysis: Based on the given conversation, there are no unresolved errors. The conversation is a simple task request from the client, and there is no specific error or issue mentioned. Therefore, there is no need for further analysis or resolution.\n",
      "\u001b[36m\n",
      "\n",
      ">>>>>>>> Think about what to do next:\u001b[0m\n"
     ]
    },
    {
     "ename": "KeyboardInterrupt",
     "evalue": "",
     "output_type": "error",
     "traceback": [
      "\u001b[0;31m---------------------------------------------------------------------------\u001b[0m",
      "\u001b[0;31mKeyboardInterrupt\u001b[0m                         Traceback (most recent call last)",
      "Cell \u001b[0;32mIn[13], line 5\u001b[0m\n\u001b[1;32m      1\u001b[0m \u001b[38;5;66;03m# 参数：\u001b[39;00m\n\u001b[1;32m      2\u001b[0m \u001b[38;5;66;03m# 1.组织架构\u001b[39;00m\n\u001b[1;32m      3\u001b[0m \u001b[38;5;66;03m# 2.邀请第一个发言的 agent 名称\u001b[39;00m\n\u001b[1;32m      4\u001b[0m \u001b[38;5;66;03m# 3.更改 task_tag 的值，默认为 \"/task\"\u001b[39;00m\n\u001b[0;32m----> 5\u001b[0m \u001b[43mautogan\u001b[49m\u001b[38;5;241;43m.\u001b[39;49m\u001b[43mSwitch\u001b[49m\u001b[43m(\u001b[49m\u001b[43mllm_config_dict\u001b[49m\u001b[43m,\u001b[49m\u001b[43m \u001b[49m\u001b[43morg_structure\u001b[49m\u001b[43m,\u001b[49m\u001b[43m \u001b[49m\u001b[38;5;124;43m\"\u001b[39;49m\u001b[38;5;124;43mhello\u001b[39;49m\u001b[38;5;124;43m\"\u001b[39;49m\u001b[43m,\u001b[49m\u001b[43m \u001b[49m\u001b[43mhuman\u001b[49m\u001b[43m)\u001b[49m;\n",
      "File \u001b[0;32m~/agent/autogan/autogan/switch/switch.py:87\u001b[0m, in \u001b[0;36mSwitch.__init__\u001b[0;34m(self, default_agent_config, org_structure, task_tag, opening_speaker, super_rich, stream_mode)\u001b[0m\n\u001b[1;32m     85\u001b[0m \u001b[38;5;28mself\u001b[39m\u001b[38;5;241m.\u001b[39m_init_agents_workmates(org_structure)\n\u001b[1;32m     86\u001b[0m \u001b[38;5;28;01mif\u001b[39;00m opening_speaker:\n\u001b[0;32m---> 87\u001b[0m     \u001b[38;5;28;43mself\u001b[39;49m\u001b[38;5;241;43m.\u001b[39;49m\u001b[43m_inviting_to_speak\u001b[49m\u001b[43m(\u001b[49m\u001b[43mopening_speaker\u001b[49m\u001b[43m)\u001b[49m\n",
      "File \u001b[0;32m~/agent/autogan/autogan/switch/switch.py:215\u001b[0m, in \u001b[0;36mSwitch._inviting_to_speak\u001b[0;34m(self, invited_speaker)\u001b[0m\n\u001b[1;32m    213\u001b[0m new_task_id \u001b[38;5;241m=\u001b[39m \u001b[38;5;28mself\u001b[39m\u001b[38;5;241m.\u001b[39mcreate_time_based_uuid()\n\u001b[1;32m    214\u001b[0m response_proxy \u001b[38;5;241m=\u001b[39m DefaultResponse()\n\u001b[0;32m--> 215\u001b[0m \u001b[43minvited_speaker\u001b[49m\u001b[38;5;241;43m.\u001b[39;49m\u001b[43mreceive\u001b[49m\u001b[43m(\u001b[49m\u001b[43mnew_task_id\u001b[49m\u001b[43m,\u001b[49m\u001b[43m \u001b[49m\u001b[38;5;124;43m\"\u001b[39;49m\u001b[38;5;124;43msystem\u001b[39;49m\u001b[38;5;124;43m\"\u001b[39;49m\u001b[43m,\u001b[49m\u001b[43m \u001b[49m\u001b[38;5;124;43m\"\u001b[39;49m\u001b[38;5;124;43mPlease enter\u001b[39;49m\u001b[38;5;124;43m\"\u001b[39;49m\u001b[43m,\u001b[49m\u001b[43m \u001b[49m\u001b[38;5;241;43m2\u001b[39;49m\u001b[43m,\u001b[49m\u001b[43m \u001b[49m\u001b[43mresponse_proxy\u001b[49m\u001b[43m)\u001b[49m\n",
      "File \u001b[0;32m~/agent/autogan/autogan/agents/universal_agent.py:145\u001b[0m, in \u001b[0;36mUniversalAgent.receive\u001b[0;34m(self, task_id, sender_name, content, completion_tokens, response_proxy)\u001b[0m\n\u001b[1;32m    143\u001b[0m         content, completion_tokens \u001b[38;5;241m=\u001b[39m compressed_text_universal(content, \u001b[38;5;28mself\u001b[39m\u001b[38;5;241m.\u001b[39mget_agent_config\u001b[38;5;241m.\u001b[39msummary_model_config, \u001b[38;5;28mself\u001b[39m\u001b[38;5;241m.\u001b[39m_conversation_focus[task_id][\u001b[38;5;124m'\u001b[39m\u001b[38;5;124mtask_content\u001b[39m\u001b[38;5;124m'\u001b[39m], safe_size)\n\u001b[1;32m    144\u001b[0m     \u001b[38;5;28mself\u001b[39m\u001b[38;5;241m.\u001b[39m_conversation_messages[task_id]\u001b[38;5;241m.\u001b[39mappend({\u001b[38;5;124m'\u001b[39m\u001b[38;5;124mrole\u001b[39m\u001b[38;5;124m'\u001b[39m: \u001b[38;5;124m'\u001b[39m\u001b[38;5;124muser\u001b[39m\u001b[38;5;124m'\u001b[39m, \u001b[38;5;124m'\u001b[39m\u001b[38;5;124mcontent\u001b[39m\u001b[38;5;124m'\u001b[39m: content, \u001b[38;5;124m'\u001b[39m\u001b[38;5;124mtokens\u001b[39m\u001b[38;5;124m'\u001b[39m: completion_tokens})\n\u001b[0;32m--> 145\u001b[0m \u001b[38;5;28;43mself\u001b[39;49m\u001b[38;5;241;43m.\u001b[39;49m\u001b[43m_generate_process\u001b[49m\u001b[43m(\u001b[49m\u001b[43mtask_id\u001b[49m\u001b[43m,\u001b[49m\u001b[43m \u001b[49m\u001b[43msender_name\u001b[49m\u001b[43m,\u001b[49m\u001b[43m \u001b[49m\u001b[43mcontent\u001b[49m\u001b[43m,\u001b[49m\u001b[43m \u001b[49m\u001b[43mcompletion_tokens\u001b[49m\u001b[43m,\u001b[49m\u001b[43m \u001b[49m\u001b[43mresponse_proxy\u001b[49m\u001b[43m)\u001b[49m\n",
      "File \u001b[0;32m~/agent/autogan/autogan/agents/universal_agent.py:539\u001b[0m, in \u001b[0;36mUniversalAgent._generate_process\u001b[0;34m(self, task_id, sender_name, content, completion_tokens, response_proxy)\u001b[0m\n\u001b[1;32m    535\u001b[0m         response_proxy\u001b[38;5;241m.\u001b[39msend(\u001b[38;5;28mself\u001b[39m\u001b[38;5;241m.\u001b[39mname, \u001b[38;5;124m\"\u001b[39m\u001b[38;5;124mtool\u001b[39m\u001b[38;5;124m\"\u001b[39m, \u001b[38;5;124m\"\u001b[39m\u001b[38;5;124m\"\u001b[39m, \u001b[38;5;28;01mFalse\u001b[39;00m, \u001b[38;5;241m0\u001b[39m, content, completion_tokens, \u001b[38;5;28;01mNone\u001b[39;00m)\n\u001b[1;32m    537\u001b[0m     \u001b[38;5;28mself\u001b[39m\u001b[38;5;241m.\u001b[39m_conversation_messages[task_id]\u001b[38;5;241m.\u001b[39mappend(\n\u001b[1;32m    538\u001b[0m         {\u001b[38;5;124m'\u001b[39m\u001b[38;5;124mrole\u001b[39m\u001b[38;5;124m'\u001b[39m: \u001b[38;5;124m'\u001b[39m\u001b[38;5;124massistant\u001b[39m\u001b[38;5;124m'\u001b[39m, \u001b[38;5;124m'\u001b[39m\u001b[38;5;124mcontent\u001b[39m\u001b[38;5;124m'\u001b[39m: content, \u001b[38;5;124m'\u001b[39m\u001b[38;5;124mtokens\u001b[39m\u001b[38;5;124m'\u001b[39m: completion_tokens})\n\u001b[0;32m--> 539\u001b[0m     \u001b[38;5;28;43mself\u001b[39;49m\u001b[38;5;241;43m.\u001b[39;49m\u001b[43mswitch\u001b[49m\u001b[38;5;241;43m.\u001b[39;49m\u001b[43mhandle_and_forward\u001b[49m\u001b[43m(\u001b[49m\u001b[43mtask_id\u001b[49m\u001b[43m,\u001b[49m\u001b[43m \u001b[49m\u001b[38;5;28;43mself\u001b[39;49m\u001b[38;5;241;43m.\u001b[39;49m\u001b[43mname\u001b[49m\u001b[43m,\u001b[49m\u001b[43m \u001b[49m\u001b[43mcontent\u001b[49m\u001b[43m,\u001b[49m\u001b[43m \u001b[49m\u001b[43mresponse_proxy\u001b[49m\u001b[43m,\u001b[49m\u001b[43m \u001b[49m\u001b[43mcompletion_tokens\u001b[49m\u001b[43m)\u001b[49m\n\u001b[1;32m    540\u001b[0m \u001b[38;5;28;01mexcept\u001b[39;00m \u001b[38;5;167;01mSystemExit\u001b[39;00m:\n\u001b[1;32m    541\u001b[0m     \u001b[38;5;28mprint\u001b[39m(\u001b[38;5;124m\"\u001b[39m\u001b[38;5;124mThe task is finished.\u001b[39m\u001b[38;5;124m\"\u001b[39m)\n",
      "File \u001b[0;32m~/agent/autogan/autogan/switch/switch.py:226\u001b[0m, in \u001b[0;36mSwitch.handle_and_forward\u001b[0;34m(self, task_id, pusher_name, content, response_proxy, completion_tokens)\u001b[0m\n\u001b[1;32m    223\u001b[0m     \u001b[38;5;28mself\u001b[39m\u001b[38;5;241m.\u001b[39msystem_prompt(handle_dict[\u001b[38;5;124m\"\u001b[39m\u001b[38;5;124mtask_id\u001b[39m\u001b[38;5;124m\"\u001b[39m], handle_dict[\u001b[38;5;124m\"\u001b[39m\u001b[38;5;124mreceiver_name\u001b[39m\u001b[38;5;124m\"\u001b[39m], handle_dict[\u001b[38;5;124m\"\u001b[39m\u001b[38;5;124mcontent\u001b[39m\u001b[38;5;124m\"\u001b[39m],\n\u001b[1;32m    224\u001b[0m                        response_proxy)\n\u001b[1;32m    225\u001b[0m \u001b[38;5;28;01melif\u001b[39;00m handle_dict[\u001b[38;5;124m\"\u001b[39m\u001b[38;5;124mtype\u001b[39m\u001b[38;5;124m\"\u001b[39m] \u001b[38;5;241m==\u001b[39m \u001b[38;5;124m\"\u001b[39m\u001b[38;5;124mnew_task\u001b[39m\u001b[38;5;124m\"\u001b[39m:\n\u001b[0;32m--> 226\u001b[0m     \u001b[43mhandle_dict\u001b[49m\u001b[43m[\u001b[49m\u001b[38;5;124;43m\"\u001b[39;49m\u001b[38;5;124;43mreceiver\u001b[39;49m\u001b[38;5;124;43m\"\u001b[39;49m\u001b[43m]\u001b[49m\u001b[38;5;241;43m.\u001b[39;49m\u001b[43mnew_task\u001b[49m\u001b[43m(\u001b[49m\u001b[43mhandle_dict\u001b[49m\u001b[43m[\u001b[49m\u001b[38;5;124;43m\"\u001b[39;49m\u001b[38;5;124;43mtask_id\u001b[39;49m\u001b[38;5;124;43m\"\u001b[39;49m\u001b[43m]\u001b[49m\u001b[43m,\u001b[49m\u001b[43m \u001b[49m\u001b[43mhandle_dict\u001b[49m\u001b[43m[\u001b[49m\u001b[38;5;124;43m\"\u001b[39;49m\u001b[38;5;124;43msender_name\u001b[39;49m\u001b[38;5;124;43m\"\u001b[39;49m\u001b[43m]\u001b[49m\u001b[43m,\u001b[49m\n\u001b[1;32m    227\u001b[0m \u001b[43m                                     \u001b[49m\u001b[43mhandle_dict\u001b[49m\u001b[43m[\u001b[49m\u001b[38;5;124;43m\"\u001b[39;49m\u001b[38;5;124;43mcontent\u001b[39;49m\u001b[38;5;124;43m\"\u001b[39;49m\u001b[43m]\u001b[49m\u001b[43m,\u001b[49m\u001b[43m \u001b[49m\u001b[43mhandle_dict\u001b[49m\u001b[43m[\u001b[49m\u001b[38;5;124;43m\"\u001b[39;49m\u001b[38;5;124;43mtokens\u001b[39;49m\u001b[38;5;124;43m\"\u001b[39;49m\u001b[43m]\u001b[49m\u001b[43m,\u001b[49m\u001b[43m \u001b[49m\u001b[43mresponse_proxy\u001b[49m\u001b[43m)\u001b[49m\n\u001b[1;32m    228\u001b[0m \u001b[38;5;28;01melse\u001b[39;00m:\n\u001b[1;32m    229\u001b[0m     handle_dict[\u001b[38;5;124m\"\u001b[39m\u001b[38;5;124mreceiver\u001b[39m\u001b[38;5;124m\"\u001b[39m]\u001b[38;5;241m.\u001b[39ma_receive(handle_dict[\u001b[38;5;124m\"\u001b[39m\u001b[38;5;124mtask_id\u001b[39m\u001b[38;5;124m\"\u001b[39m], handle_dict[\u001b[38;5;124m\"\u001b[39m\u001b[38;5;124msender_name\u001b[39m\u001b[38;5;124m\"\u001b[39m],\n\u001b[1;32m    230\u001b[0m                                       handle_dict[\u001b[38;5;124m\"\u001b[39m\u001b[38;5;124mcontent\u001b[39m\u001b[38;5;124m\"\u001b[39m], handle_dict[\u001b[38;5;124m\"\u001b[39m\u001b[38;5;124mtokens\u001b[39m\u001b[38;5;124m\"\u001b[39m], response_proxy)\n",
      "File \u001b[0;32m~/agent/autogan/autogan/agents/universal_agent.py:106\u001b[0m, in \u001b[0;36mUniversalAgent.new_task\u001b[0;34m(self, task_id, sender_name, content, completion_tokens, response_proxy)\u001b[0m\n\u001b[1;32m    104\u001b[0m \u001b[38;5;28mself\u001b[39m\u001b[38;5;241m.\u001b[39m_conversation_focus[task_id] \u001b[38;5;241m=\u001b[39m {\u001b[38;5;124m'\u001b[39m\u001b[38;5;124mtask_issuer\u001b[39m\u001b[38;5;124m'\u001b[39m: sender_name, \u001b[38;5;124m'\u001b[39m\u001b[38;5;124mtask_content\u001b[39m\u001b[38;5;124m'\u001b[39m: task_content}\n\u001b[1;32m    105\u001b[0m \u001b[38;5;66;03m# Start the generation process\u001b[39;00m\n\u001b[0;32m--> 106\u001b[0m \u001b[38;5;28;43mself\u001b[39;49m\u001b[38;5;241;43m.\u001b[39;49m\u001b[43m_generate_process\u001b[49m\u001b[43m(\u001b[49m\u001b[43mtask_id\u001b[49m\u001b[43m,\u001b[49m\u001b[43m \u001b[49m\u001b[43msender_name\u001b[49m\u001b[43m,\u001b[49m\u001b[43m \u001b[49m\u001b[43mcontent\u001b[49m\u001b[43m,\u001b[49m\u001b[43m \u001b[49m\u001b[43mcompletion_tokens\u001b[49m\u001b[43m,\u001b[49m\u001b[43m \u001b[49m\u001b[43mresponse_proxy\u001b[49m\u001b[43m)\u001b[49m\n",
      "File \u001b[0;32m~/agent/autogan/autogan/agents/universal_agent.py:517\u001b[0m, in \u001b[0;36mUniversalAgent._generate_process\u001b[0;34m(self, task_id, sender_name, content, completion_tokens, response_proxy)\u001b[0m\n\u001b[1;32m    515\u001b[0m     ideas \u001b[38;5;241m=\u001b[39m defaultdict(\u001b[38;5;28mstr\u001b[39m)\n\u001b[1;32m    516\u001b[0m     \u001b[38;5;28;01mfor\u001b[39;00m messages, idea_tag \u001b[38;5;129;01min\u001b[39;00m \u001b[38;5;28mself\u001b[39m\u001b[38;5;241m.\u001b[39m_super_rich_generate_reply(ideas, task_id, request_messages):\n\u001b[0;32m--> 517\u001b[0m         content, completion_tokens \u001b[38;5;241m=\u001b[39m \u001b[43mgenerate_chat_completion\u001b[49m\u001b[43m(\u001b[49m\n\u001b[1;32m    518\u001b[0m \u001b[43m            \u001b[49m\u001b[38;5;28;43mself\u001b[39;49m\u001b[38;5;241;43m.\u001b[39;49m\u001b[43mget_agent_config\u001b[49m\u001b[38;5;241;43m.\u001b[39;49m\u001b[43mmain_model_config\u001b[49m\u001b[43m,\u001b[49m\u001b[43m \u001b[49m\u001b[43mmessages\u001b[49m\u001b[43m,\u001b[49m\u001b[43m \u001b[49m\u001b[38;5;28;43mself\u001b[39;49m\u001b[38;5;241;43m.\u001b[39;49m\u001b[43mname\u001b[49m\u001b[43m,\u001b[49m\u001b[43m \u001b[49m\u001b[38;5;124;43m\"\u001b[39;49m\u001b[38;5;124;43mmain\u001b[39;49m\u001b[38;5;124;43m\"\u001b[39;49m\u001b[43m,\u001b[49m\u001b[43m \u001b[49m\u001b[43mresponse_proxy\u001b[49m\u001b[43m,\u001b[49m\n\u001b[1;32m    519\u001b[0m \u001b[43m            \u001b[49m\u001b[38;5;28;43mself\u001b[39;49m\u001b[38;5;241;43m.\u001b[39;49m\u001b[43mswitch\u001b[49m\u001b[38;5;241;43m.\u001b[39;49m\u001b[43mdefault_stream_mode\u001b[49m\u001b[43m)\u001b[49m\n\u001b[1;32m    520\u001b[0m         ideas[idea_tag] \u001b[38;5;241m=\u001b[39m content\n\u001b[1;32m    521\u001b[0m \u001b[38;5;28;01melse\u001b[39;00m:\n",
      "File \u001b[0;32m~/agent/autogan/autogan/oai/generate_utils.py:33\u001b[0m, in \u001b[0;36mgenerate_chat_completion\u001b[0;34m(llm_config, messages, agent_name, gen, response_proxy, stream_mode)\u001b[0m\n\u001b[1;32m     31\u001b[0m loop \u001b[38;5;241m=\u001b[39m llm_config\u001b[38;5;241m.\u001b[39mlen_of_api_key_list\n\u001b[1;32m     32\u001b[0m \u001b[38;5;28;01mfor\u001b[39;00m i \u001b[38;5;129;01min\u001b[39;00m \u001b[38;5;28mrange\u001b[39m(loop):\n\u001b[0;32m---> 33\u001b[0m     \u001b[43mtime\u001b[49m\u001b[38;5;241;43m.\u001b[39;49m\u001b[43msleep\u001b[49m\u001b[43m(\u001b[49m\u001b[43mllm_config\u001b[49m\u001b[38;5;241;43m.\u001b[39;49m\u001b[43mrequest_interval_time\u001b[49m\u001b[43m)\u001b[49m\n\u001b[1;32m     34\u001b[0m     api_key \u001b[38;5;241m=\u001b[39m llm_config\u001b[38;5;241m.\u001b[39mnext_api_key\n\u001b[1;32m     35\u001b[0m     \u001b[38;5;28;01mtry\u001b[39;00m:\n",
      "\u001b[0;31mKeyboardInterrupt\u001b[0m: "
     ]
    }
   ],
   "source": [
    "# 参数：\n",
    "# 1.组织架构\n",
    "# 2.邀请第一个发言的 agent 名称\n",
    "# 3.更改 task_tag 的值，默认为 \"/task\"\n",
    "autogan.Switch(llm_config_dict, org_structure, \"hello\", human);"
   ]
  }
 ],
 "metadata": {
  "kernelspec": {
   "display_name": "Python 3 (ipykernel)",
   "language": "python",
   "name": "python3"
  },
  "language_info": {
   "codemirror_mode": {
    "name": "ipython",
    "version": 3
   },
   "file_extension": ".py",
   "mimetype": "text/x-python",
   "name": "python",
   "nbconvert_exporter": "python",
   "pygments_lexer": "ipython3",
   "version": "3.10.12"
  }
 },
 "nbformat": 4,
 "nbformat_minor": 5
}
