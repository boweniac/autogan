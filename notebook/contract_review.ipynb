{
 "cells": [
  {
   "cell_type": "markdown",
   "id": "da1b89b1b086a68b",
   "metadata": {
    "collapsed": false,
    "jupyter": {
     "outputs_hidden": false
    }
   },
   "source": [
    "# Contract Review\n",
    "___\n",
    "\n",
    "这个示例用于演示，在一个通用的组织架构中，agent 间相互配合，自行完成合同审核任务\n",
    "\n",
    "具体的配置过程推荐阅读 [Complete Usage](./complete_usage.ipynb) 笔记"
   ]
  },
  {
   "cell_type": "markdown",
   "id": "46cc0be540f07458",
   "metadata": {
    "collapsed": false,
    "jupyter": {
     "outputs_hidden": false
    }
   },
   "source": [
    "## 安装框架\n",
    "___\n",
    "\n",
    "AutoGan requires Python version >= 3.8. It can be installed from pip:"
   ]
  },
  {
   "cell_type": "code",
   "execution_count": null,
   "id": "e8313855-137f-4a22-a93d-34958a4e7a15",
   "metadata": {
    "ExecuteTime": {
     "end_time": "2023-12-08T23:53:04.386903Z",
     "start_time": "2023-12-08T23:53:04.354948Z"
    }
   },
   "outputs": [],
   "source": [
    "%%capture --no-stderr\n",
    "%pip install --upgrade pyautogan"
   ]
  },
  {
   "cell_type": "code",
   "execution_count": null,
   "id": "9e886913-abb7-45cd-8160-f2a8b522bd99",
   "metadata": {
    "ExecuteTime": {
     "end_time": "2023-12-08T23:53:05.675988Z",
     "start_time": "2023-12-08T23:53:04.355107Z"
    }
   },
   "outputs": [],
   "source": [
    "import autogan"
   ]
  },
  {
   "cell_type": "markdown",
   "id": "794d8f5f3703e2e3",
   "metadata": {
    "collapsed": false,
    "jupyter": {
     "outputs_hidden": false
    }
   },
   "source": [
    "## LLM 配置\n",
    "___"
   ]
  },
  {
   "cell_type": "code",
   "execution_count": null,
   "id": "f197e874a4d20084",
   "metadata": {
    "ExecuteTime": {
     "end_time": "2023-12-08T23:53:05.691210Z",
     "start_time": "2023-12-08T23:53:05.681195Z"
    },
    "collapsed": false,
    "jupyter": {
     "outputs_hidden": false
    }
   },
   "outputs": [],
   "source": [
    "# 通过 dict_from_json 函数读取 LLM 配置\n",
    "llm_config_dict = autogan.dict_from_json(\"LLM_CONFIG\")"
   ]
  },
  {
   "cell_type": "markdown",
   "id": "7012e28a6eaa5896",
   "metadata": {
    "collapsed": false,
    "jupyter": {
     "outputs_hidden": false
    }
   },
   "source": [
    "## 构建 Agents\n",
    "___\n",
    "\n",
    "### 数字化身\n",
    "\n",
    "人类的数字化身，用来与其他 agent 协同工作。"
   ]
  },
  {
   "cell_type": "code",
   "execution_count": null,
   "id": "ae4c9e9fe4bebf4e",
   "metadata": {
    "ExecuteTime": {
     "end_time": "2023-12-08T23:53:05.734250Z",
     "start_time": "2023-12-08T23:53:05.689741Z"
    },
    "collapsed": false,
    "jupyter": {
     "outputs_hidden": false
    }
   },
   "outputs": [],
   "source": [
    "human = autogan.HumanAgent(\"客户\", duty=\"请帮助我完成业务\")"
   ]
  },
  {
   "cell_type": "markdown",
   "id": "198b04dbc795a477",
   "metadata": {
    "collapsed": false,
    "jupyter": {
     "outputs_hidden": false
    }
   },
   "source": [
    "### 客户经理"
   ]
  },
  {
   "cell_type": "code",
   "execution_count": null,
   "id": "e9a962a2396b8dae",
   "metadata": {
    "ExecuteTime": {
     "end_time": "2023-12-08T23:53:05.734479Z",
     "start_time": "2023-12-08T23:53:05.730562Z"
    },
    "collapsed": false,
    "jupyter": {
     "outputs_hidden": false
    }
   },
   "outputs": [],
   "source": [
    "cust_manager = autogan.UniversalAgent(\"客户经理\", duty=\"负责接待客户\", work_flow=\"\"\"\n",
    "1. 你是一个富有经验的客户经理，请尽一切可能满足客户的合法需求。\n",
    "\n",
    "2. 如果没有正确答案，请明确告知，而不是给出错误结果\"\"\")"
   ]
  },
  {
   "cell_type": "markdown",
   "id": "ee732a1f-25bc-4a3f-b93b-19ca33884a9d",
   "metadata": {},
   "source": [
    "## 审核员"
   ]
  },
  {
   "cell_type": "code",
   "execution_count": null,
   "id": "ce9df7e0-85a6-4ffb-8db6-085c5aad3003",
   "metadata": {},
   "outputs": [],
   "source": [
    "Auditor = autogan.UniversalAgent(\"审核员\", duty=\"请将待审核合同的文件名发送给我，我将返回审核结果\", work_flow=\"\"\"\n",
    "收到合同后，请站在银行的角度，从以下方面审核发送给你的合同：\n",
    "1. 合同条款的完整性和合法性：审核合同中的条款是否完整，确保没有遗漏重要的法律要求，比如付款条件、交货期限、违约责任等。\n",
    "\n",
    "2. 风险评估：分析和评估合同执行过程中可能出现的风险，例如供货延迟、质量问题、市场风险等。\n",
    "\n",
    "3. 合规性检查：确保合同遵守了所有相关的法律法规和内部政策，特别是关于反洗钱和反腐败的规定。\n",
    "\n",
    "4. 付款条件和流程：审核合同中的付款条件，确保它们是公平且可行的，并符合银行的内部流程。\"\"\")"
   ]
  },
  {
   "cell_type": "markdown",
   "id": "e6515f339f1fd949",
   "metadata": {
    "collapsed": false,
    "jupyter": {
     "outputs_hidden": false
    }
   },
   "source": [
    "### 其他预置 agent"
   ]
  },
  {
   "cell_type": "markdown",
   "id": "ee02bf057d85ba9d",
   "metadata": {
    "collapsed": false,
    "jupyter": {
     "outputs_hidden": false
    }
   },
   "source": [
    "1. 搜索专家"
   ]
  },
  {
   "cell_type": "code",
   "execution_count": null,
   "id": "adc41dc1-b5f3-4d6d-af5b-89a3d17c082b",
   "metadata": {
    "ExecuteTime": {
     "end_time": "2023-12-08T23:53:05.734740Z",
     "start_time": "2023-12-08T23:53:05.730702Z"
    }
   },
   "outputs": [],
   "source": [
    "search_config_dict = autogan.dict_from_json(\"SEARCH_CONFIG\")"
   ]
  },
  {
   "cell_type": "code",
   "execution_count": null,
   "id": "d825a2b5-ceac-4a28-8c62-c934748efe90",
   "metadata": {
    "ExecuteTime": {
     "end_time": "2023-12-08T23:53:06.148387Z",
     "start_time": "2023-12-08T23:53:05.730792Z"
    }
   },
   "outputs": [],
   "source": [
    "search_exp = autogan.ToolAgentSearch(search_config_dict, name=\"搜索专家\")"
   ]
  },
  {
   "cell_type": "markdown",
   "id": "6694ff0878ef79a4",
   "metadata": {
    "collapsed": false,
    "jupyter": {
     "outputs_hidden": false
    }
   },
   "source": [
    "2. 秘书"
   ]
  },
  {
   "cell_type": "code",
   "execution_count": null,
   "id": "cbe8cdbb818a3274",
   "metadata": {
    "ExecuteTime": {
     "start_time": "2023-12-08T23:53:06.189443Z"
    },
    "collapsed": false,
    "jupyter": {
     "outputs_hidden": false
    }
   },
   "outputs": [],
   "source": [
    "mail_config_dict = autogan.dict_from_json(\"MAIL_CONFIG\")"
   ]
  },
  {
   "cell_type": "code",
   "execution_count": null,
   "id": "7812fbda642f9f83",
   "metadata": {
    "ExecuteTime": {
     "start_time": "2023-12-08T23:53:06.189577Z"
    },
    "collapsed": false,
    "jupyter": {
     "outputs_hidden": false
    }
   },
   "outputs": [],
   "source": [
    "secretary = autogan.ToolAgentMail(mail_config_dict, \"秘书\")"
   ]
  },
  {
   "cell_type": "markdown",
   "id": "58e5583a7c636db3",
   "metadata": {
    "collapsed": false,
    "jupyter": {
     "outputs_hidden": false
    }
   },
   "source": [
    "3. 文件助手"
   ]
  },
  {
   "cell_type": "code",
   "execution_count": null,
   "id": "2bd9b46295147cd5",
   "metadata": {
    "ExecuteTime": {
     "end_time": "2023-12-08T23:53:06.192752Z",
     "start_time": "2023-12-08T23:53:06.189635Z"
    },
    "collapsed": false,
    "jupyter": {
     "outputs_hidden": false
    }
   },
   "outputs": [],
   "source": [
    "file_exp = autogan.ToolAgentFile(name=\"文件助手\")"
   ]
  },
  {
   "cell_type": "markdown",
   "id": "40a8dd86669d313c",
   "metadata": {
    "collapsed": false,
    "jupyter": {
     "outputs_hidden": false
    }
   },
   "source": [
    "4. 程序员"
   ]
  },
  {
   "cell_type": "code",
   "execution_count": null,
   "id": "83a0fa1c38ab7ad0",
   "metadata": {
    "ExecuteTime": {
     "start_time": "2023-12-08T23:53:06.189693Z"
    },
    "collapsed": false,
    "jupyter": {
     "outputs_hidden": false
    }
   },
   "outputs": [],
   "source": [
    "coder = autogan.UniversalAgent(\"程序员\", duty=\"我可以编写 python 代码并执行\", work_flow=\"\"\"\n",
    "1. 我希望你是一个有经验的Python程序员，将接收到的需求用代码来实现。不用管你自己是否有能力执行代码，因为 测试员 可以帮你执行。\n",
    "\n",
    "2. 你的代码需要先 @测试员，并将代码使用 ``` 符号封装，他会回复执行结果，例如：\n",
    "@测试员 请帮我执行代码\n",
    "```python\n",
    "Your code\n",
    "```\"\"\")"
   ]
  },
  {
   "cell_type": "code",
   "execution_count": null,
   "id": "bcc3c9cefa18e63b",
   "metadata": {
    "ExecuteTime": {
     "start_time": "2023-12-08T23:53:06.189788Z"
    },
    "collapsed": false,
    "jupyter": {
     "outputs_hidden": false
    }
   },
   "outputs": [],
   "source": [
    "test_staff = autogan.ToolAgentCodeExecution(\"测试员\")"
   ]
  },
  {
   "cell_type": "markdown",
   "id": "e72e39992f30d173",
   "metadata": {
    "collapsed": false,
    "jupyter": {
     "outputs_hidden": false
    }
   },
   "source": [
    "## 构建组织架构\n",
    "___\n",
    "\n",
    "考虑到并非所有 agent 之间都需要建立协作关系，且过多无用的协作关系会影响到 agent 决策的准确性。\n",
    "因此本框架引入了组织架构的概念，让需要相互协作的 agent 组成独立的数字部门，以更加专注于解决特定领域的问题。\n",
    "\n",
    "创建组织架构的方式非常简单，只需要定义一个存储 agent 对象的多维列表。"
   ]
  },
  {
   "cell_type": "code",
   "execution_count": null,
   "id": "5b7dbf04fc82d86f",
   "metadata": {
    "ExecuteTime": {
     "start_time": "2023-12-08T23:53:06.189889Z"
    },
    "collapsed": false,
    "jupyter": {
     "outputs_hidden": false
    }
   },
   "outputs": [],
   "source": [
    "org_structure = [human, cust_manager, Auditor, search_exp, secretary, file_exp, [coder, test_staff]]"
   ]
  },
  {
   "cell_type": "markdown",
   "id": "7c0e1f1ea6cced76",
   "metadata": {
    "collapsed": false,
    "jupyter": {
     "outputs_hidden": false
    }
   },
   "source": [
    "每个 list 相当于一个部门，各部门的第一个 agent 为部门的 leader，负责与上级部门的 agent 进行沟通。\n",
    "因此 leader 的 duty 属性应当概述整个部门的职测与能力。"
   ]
  },
  {
   "cell_type": "markdown",
   "id": "f97323dfea7c6157",
   "metadata": {
    "collapsed": false,
    "jupyter": {
     "outputs_hidden": false
    }
   },
   "source": [
    "## 开始会话\n",
    "___\n",
    "\n",
    "与 agent 的初次对话，需要在发送的消息中添加 task_tag 符号，用于创建任务，task_tag 的默认值为 \"/task\"。\n",
    "\n",
    "后续对话中如果使用 task_tag 符号，则是对当前任务发表意见或看法。"
   ]
  },
  {
   "cell_type": "code",
   "execution_count": null,
   "id": "e7b97dab-7e3f-4af2-bca6-d31a0223c959",
   "metadata": {
    "ExecuteTime": {
     "start_time": "2023-12-08T23:53:06.189963Z"
    }
   },
   "outputs": [],
   "source": [
    "autogan.AgentSwitch(org_structure, \"hello\", human, llm_config_dict);"
   ]
  }
 ],
 "metadata": {
  "kernelspec": {
   "display_name": "Python 3 (ipykernel)",
   "language": "python",
   "name": "python3"
  },
  "language_info": {
   "codemirror_mode": {
    "name": "ipython",
    "version": 3
   },
   "file_extension": ".py",
   "mimetype": "text/x-python",
   "name": "python",
   "nbconvert_exporter": "python",
   "pygments_lexer": "ipython3",
   "version": "3.10.12"
  }
 },
 "nbformat": 4,
 "nbformat_minor": 5
}
